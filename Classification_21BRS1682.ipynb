{
  "nbformat": 4,
  "nbformat_minor": 0,
  "metadata": {
    "colab": {
      "provenance": []
    },
    "kernelspec": {
      "name": "python3",
      "display_name": "Python 3"
    },
    "language_info": {
      "name": "python"
    }
  },
  "cells": [
    {
      "cell_type": "markdown",
      "source": [
        "# Classification ML - Beginners"
      ],
      "metadata": {
        "id": "_Vt7cy8IVMv8"
      }
    },
    {
      "cell_type": "markdown",
      "source": [
        "![do.png](data:image/png;base64,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)"
      ],
      "metadata": {
        "id": "3VexYaoIVJo0"
      }
    },
    {
      "cell_type": "markdown",
      "source": [
        "# Importing necessary libraries"
      ],
      "metadata": {
        "id": "M6rGuUsbU98U"
      }
    },
    {
      "cell_type": "code",
      "execution_count": 15,
      "metadata": {
        "id": "-6biyee8UBVK"
      },
      "outputs": [],
      "source": [
        "import pandas as pd\n",
        "import numpy as np\n",
        "import matplotlib.pyplot as plt\n",
        "import seaborn as sns\n",
        "import warnings\n",
        "warnings.filterwarnings('ignore')"
      ]
    },
    {
      "cell_type": "markdown",
      "source": [
        "#Dataset loading\n",
        " > Initial data understanding"
      ],
      "metadata": {
        "id": "2gj3bk6CVUcT"
      }
    },
    {
      "cell_type": "code",
      "source": [
        "df = pd.read_csv('/content/Categorical 2.csv')"
      ],
      "metadata": {
        "id": "2G-i4EkOUkcY"
      },
      "execution_count": 2,
      "outputs": []
    },
    {
      "cell_type": "code",
      "source": [
        "df.head(10)"
      ],
      "metadata": {
        "colab": {
          "base_uri": "https://localhost:8080/",
          "height": 363
        },
        "id": "mGfVTCX8UrSb",
        "outputId": "b33b6015-cd40-4935-9463-73213bd9c10f"
      },
      "execution_count": 3,
      "outputs": [
        {
          "output_type": "execute_result",
          "data": {
            "text/plain": [
              "      X1      X2        X3 X4          X5          X6             X7  \\\n",
              "0  usual  proper  complete  1  convenient  convenient        nonprob   \n",
              "1  usual  proper  complete  1  convenient  convenient        nonprob   \n",
              "2  usual  proper  complete  1  convenient  convenient        nonprob   \n",
              "3  usual  proper  complete  1  convenient  convenient  slightly_prob   \n",
              "4  usual  proper  complete  1  convenient  convenient  slightly_prob   \n",
              "5  usual  proper  complete  1  convenient  convenient  slightly_prob   \n",
              "6  usual  proper  complete  1  convenient  convenient    problematic   \n",
              "7  usual  proper  complete  1  convenient  convenient    problematic   \n",
              "8  usual  proper  complete  1  convenient  convenient    problematic   \n",
              "9  usual  proper  complete  1  convenient      inconv        nonprob   \n",
              "\n",
              "            X8      Target  \n",
              "0  recommended   recommend  \n",
              "1     priority    priority  \n",
              "2    not_recom   not_recom  \n",
              "3  recommended   recommend  \n",
              "4     priority    priority  \n",
              "5    not_recom   not_recom  \n",
              "6  recommended    priority  \n",
              "7     priority    priority  \n",
              "8    not_recom   not_recom  \n",
              "9  recommended  very_recom  "
            ],
            "text/html": [
              "\n",
              "  <div id=\"df-bc024cfe-001b-4417-8e25-43a1f9e3967b\" class=\"colab-df-container\">\n",
              "    <div>\n",
              "<style scoped>\n",
              "    .dataframe tbody tr th:only-of-type {\n",
              "        vertical-align: middle;\n",
              "    }\n",
              "\n",
              "    .dataframe tbody tr th {\n",
              "        vertical-align: top;\n",
              "    }\n",
              "\n",
              "    .dataframe thead th {\n",
              "        text-align: right;\n",
              "    }\n",
              "</style>\n",
              "<table border=\"1\" class=\"dataframe\">\n",
              "  <thead>\n",
              "    <tr style=\"text-align: right;\">\n",
              "      <th></th>\n",
              "      <th>X1</th>\n",
              "      <th>X2</th>\n",
              "      <th>X3</th>\n",
              "      <th>X4</th>\n",
              "      <th>X5</th>\n",
              "      <th>X6</th>\n",
              "      <th>X7</th>\n",
              "      <th>X8</th>\n",
              "      <th>Target</th>\n",
              "    </tr>\n",
              "  </thead>\n",
              "  <tbody>\n",
              "    <tr>\n",
              "      <th>0</th>\n",
              "      <td>usual</td>\n",
              "      <td>proper</td>\n",
              "      <td>complete</td>\n",
              "      <td>1</td>\n",
              "      <td>convenient</td>\n",
              "      <td>convenient</td>\n",
              "      <td>nonprob</td>\n",
              "      <td>recommended</td>\n",
              "      <td>recommend</td>\n",
              "    </tr>\n",
              "    <tr>\n",
              "      <th>1</th>\n",
              "      <td>usual</td>\n",
              "      <td>proper</td>\n",
              "      <td>complete</td>\n",
              "      <td>1</td>\n",
              "      <td>convenient</td>\n",
              "      <td>convenient</td>\n",
              "      <td>nonprob</td>\n",
              "      <td>priority</td>\n",
              "      <td>priority</td>\n",
              "    </tr>\n",
              "    <tr>\n",
              "      <th>2</th>\n",
              "      <td>usual</td>\n",
              "      <td>proper</td>\n",
              "      <td>complete</td>\n",
              "      <td>1</td>\n",
              "      <td>convenient</td>\n",
              "      <td>convenient</td>\n",
              "      <td>nonprob</td>\n",
              "      <td>not_recom</td>\n",
              "      <td>not_recom</td>\n",
              "    </tr>\n",
              "    <tr>\n",
              "      <th>3</th>\n",
              "      <td>usual</td>\n",
              "      <td>proper</td>\n",
              "      <td>complete</td>\n",
              "      <td>1</td>\n",
              "      <td>convenient</td>\n",
              "      <td>convenient</td>\n",
              "      <td>slightly_prob</td>\n",
              "      <td>recommended</td>\n",
              "      <td>recommend</td>\n",
              "    </tr>\n",
              "    <tr>\n",
              "      <th>4</th>\n",
              "      <td>usual</td>\n",
              "      <td>proper</td>\n",
              "      <td>complete</td>\n",
              "      <td>1</td>\n",
              "      <td>convenient</td>\n",
              "      <td>convenient</td>\n",
              "      <td>slightly_prob</td>\n",
              "      <td>priority</td>\n",
              "      <td>priority</td>\n",
              "    </tr>\n",
              "    <tr>\n",
              "      <th>5</th>\n",
              "      <td>usual</td>\n",
              "      <td>proper</td>\n",
              "      <td>complete</td>\n",
              "      <td>1</td>\n",
              "      <td>convenient</td>\n",
              "      <td>convenient</td>\n",
              "      <td>slightly_prob</td>\n",
              "      <td>not_recom</td>\n",
              "      <td>not_recom</td>\n",
              "    </tr>\n",
              "    <tr>\n",
              "      <th>6</th>\n",
              "      <td>usual</td>\n",
              "      <td>proper</td>\n",
              "      <td>complete</td>\n",
              "      <td>1</td>\n",
              "      <td>convenient</td>\n",
              "      <td>convenient</td>\n",
              "      <td>problematic</td>\n",
              "      <td>recommended</td>\n",
              "      <td>priority</td>\n",
              "    </tr>\n",
              "    <tr>\n",
              "      <th>7</th>\n",
              "      <td>usual</td>\n",
              "      <td>proper</td>\n",
              "      <td>complete</td>\n",
              "      <td>1</td>\n",
              "      <td>convenient</td>\n",
              "      <td>convenient</td>\n",
              "      <td>problematic</td>\n",
              "      <td>priority</td>\n",
              "      <td>priority</td>\n",
              "    </tr>\n",
              "    <tr>\n",
              "      <th>8</th>\n",
              "      <td>usual</td>\n",
              "      <td>proper</td>\n",
              "      <td>complete</td>\n",
              "      <td>1</td>\n",
              "      <td>convenient</td>\n",
              "      <td>convenient</td>\n",
              "      <td>problematic</td>\n",
              "      <td>not_recom</td>\n",
              "      <td>not_recom</td>\n",
              "    </tr>\n",
              "    <tr>\n",
              "      <th>9</th>\n",
              "      <td>usual</td>\n",
              "      <td>proper</td>\n",
              "      <td>complete</td>\n",
              "      <td>1</td>\n",
              "      <td>convenient</td>\n",
              "      <td>inconv</td>\n",
              "      <td>nonprob</td>\n",
              "      <td>recommended</td>\n",
              "      <td>very_recom</td>\n",
              "    </tr>\n",
              "  </tbody>\n",
              "</table>\n",
              "</div>\n",
              "    <div class=\"colab-df-buttons\">\n",
              "\n",
              "  <div class=\"colab-df-container\">\n",
              "    <button class=\"colab-df-convert\" onclick=\"convertToInteractive('df-bc024cfe-001b-4417-8e25-43a1f9e3967b')\"\n",
              "            title=\"Convert this dataframe to an interactive table.\"\n",
              "            style=\"display:none;\">\n",
              "\n",
              "  <svg xmlns=\"http://www.w3.org/2000/svg\" height=\"24px\" viewBox=\"0 -960 960 960\">\n",
              "    <path d=\"M120-120v-720h720v720H120Zm60-500h600v-160H180v160Zm220 220h160v-160H400v160Zm0 220h160v-160H400v160ZM180-400h160v-160H180v160Zm440 0h160v-160H620v160ZM180-180h160v-160H180v160Zm440 0h160v-160H620v160Z\"/>\n",
              "  </svg>\n",
              "    </button>\n",
              "\n",
              "  <style>\n",
              "    .colab-df-container {\n",
              "      display:flex;\n",
              "      gap: 12px;\n",
              "    }\n",
              "\n",
              "    .colab-df-convert {\n",
              "      background-color: #E8F0FE;\n",
              "      border: none;\n",
              "      border-radius: 50%;\n",
              "      cursor: pointer;\n",
              "      display: none;\n",
              "      fill: #1967D2;\n",
              "      height: 32px;\n",
              "      padding: 0 0 0 0;\n",
              "      width: 32px;\n",
              "    }\n",
              "\n",
              "    .colab-df-convert:hover {\n",
              "      background-color: #E2EBFA;\n",
              "      box-shadow: 0px 1px 2px rgba(60, 64, 67, 0.3), 0px 1px 3px 1px rgba(60, 64, 67, 0.15);\n",
              "      fill: #174EA6;\n",
              "    }\n",
              "\n",
              "    .colab-df-buttons div {\n",
              "      margin-bottom: 4px;\n",
              "    }\n",
              "\n",
              "    [theme=dark] .colab-df-convert {\n",
              "      background-color: #3B4455;\n",
              "      fill: #D2E3FC;\n",
              "    }\n",
              "\n",
              "    [theme=dark] .colab-df-convert:hover {\n",
              "      background-color: #434B5C;\n",
              "      box-shadow: 0px 1px 3px 1px rgba(0, 0, 0, 0.15);\n",
              "      filter: drop-shadow(0px 1px 2px rgba(0, 0, 0, 0.3));\n",
              "      fill: #FFFFFF;\n",
              "    }\n",
              "  </style>\n",
              "\n",
              "    <script>\n",
              "      const buttonEl =\n",
              "        document.querySelector('#df-bc024cfe-001b-4417-8e25-43a1f9e3967b button.colab-df-convert');\n",
              "      buttonEl.style.display =\n",
              "        google.colab.kernel.accessAllowed ? 'block' : 'none';\n",
              "\n",
              "      async function convertToInteractive(key) {\n",
              "        const element = document.querySelector('#df-bc024cfe-001b-4417-8e25-43a1f9e3967b');\n",
              "        const dataTable =\n",
              "          await google.colab.kernel.invokeFunction('convertToInteractive',\n",
              "                                                    [key], {});\n",
              "        if (!dataTable) return;\n",
              "\n",
              "        const docLinkHtml = 'Like what you see? Visit the ' +\n",
              "          '<a target=\"_blank\" href=https://colab.research.google.com/notebooks/data_table.ipynb>data table notebook</a>'\n",
              "          + ' to learn more about interactive tables.';\n",
              "        element.innerHTML = '';\n",
              "        dataTable['output_type'] = 'display_data';\n",
              "        await google.colab.output.renderOutput(dataTable, element);\n",
              "        const docLink = document.createElement('div');\n",
              "        docLink.innerHTML = docLinkHtml;\n",
              "        element.appendChild(docLink);\n",
              "      }\n",
              "    </script>\n",
              "  </div>\n",
              "\n",
              "\n",
              "<div id=\"df-6e8f5b6b-f558-4cd5-9fe7-bda65eda3688\">\n",
              "  <button class=\"colab-df-quickchart\" onclick=\"quickchart('df-6e8f5b6b-f558-4cd5-9fe7-bda65eda3688')\"\n",
              "            title=\"Suggest charts\"\n",
              "            style=\"display:none;\">\n",
              "\n",
              "<svg xmlns=\"http://www.w3.org/2000/svg\" height=\"24px\"viewBox=\"0 0 24 24\"\n",
              "     width=\"24px\">\n",
              "    <g>\n",
              "        <path d=\"M19 3H5c-1.1 0-2 .9-2 2v14c0 1.1.9 2 2 2h14c1.1 0 2-.9 2-2V5c0-1.1-.9-2-2-2zM9 17H7v-7h2v7zm4 0h-2V7h2v10zm4 0h-2v-4h2v4z\"/>\n",
              "    </g>\n",
              "</svg>\n",
              "  </button>\n",
              "\n",
              "<style>\n",
              "  .colab-df-quickchart {\n",
              "      --bg-color: #E8F0FE;\n",
              "      --fill-color: #1967D2;\n",
              "      --hover-bg-color: #E2EBFA;\n",
              "      --hover-fill-color: #174EA6;\n",
              "      --disabled-fill-color: #AAA;\n",
              "      --disabled-bg-color: #DDD;\n",
              "  }\n",
              "\n",
              "  [theme=dark] .colab-df-quickchart {\n",
              "      --bg-color: #3B4455;\n",
              "      --fill-color: #D2E3FC;\n",
              "      --hover-bg-color: #434B5C;\n",
              "      --hover-fill-color: #FFFFFF;\n",
              "      --disabled-bg-color: #3B4455;\n",
              "      --disabled-fill-color: #666;\n",
              "  }\n",
              "\n",
              "  .colab-df-quickchart {\n",
              "    background-color: var(--bg-color);\n",
              "    border: none;\n",
              "    border-radius: 50%;\n",
              "    cursor: pointer;\n",
              "    display: none;\n",
              "    fill: var(--fill-color);\n",
              "    height: 32px;\n",
              "    padding: 0;\n",
              "    width: 32px;\n",
              "  }\n",
              "\n",
              "  .colab-df-quickchart:hover {\n",
              "    background-color: var(--hover-bg-color);\n",
              "    box-shadow: 0 1px 2px rgba(60, 64, 67, 0.3), 0 1px 3px 1px rgba(60, 64, 67, 0.15);\n",
              "    fill: var(--button-hover-fill-color);\n",
              "  }\n",
              "\n",
              "  .colab-df-quickchart-complete:disabled,\n",
              "  .colab-df-quickchart-complete:disabled:hover {\n",
              "    background-color: var(--disabled-bg-color);\n",
              "    fill: var(--disabled-fill-color);\n",
              "    box-shadow: none;\n",
              "  }\n",
              "\n",
              "  .colab-df-spinner {\n",
              "    border: 2px solid var(--fill-color);\n",
              "    border-color: transparent;\n",
              "    border-bottom-color: var(--fill-color);\n",
              "    animation:\n",
              "      spin 1s steps(1) infinite;\n",
              "  }\n",
              "\n",
              "  @keyframes spin {\n",
              "    0% {\n",
              "      border-color: transparent;\n",
              "      border-bottom-color: var(--fill-color);\n",
              "      border-left-color: var(--fill-color);\n",
              "    }\n",
              "    20% {\n",
              "      border-color: transparent;\n",
              "      border-left-color: var(--fill-color);\n",
              "      border-top-color: var(--fill-color);\n",
              "    }\n",
              "    30% {\n",
              "      border-color: transparent;\n",
              "      border-left-color: var(--fill-color);\n",
              "      border-top-color: var(--fill-color);\n",
              "      border-right-color: var(--fill-color);\n",
              "    }\n",
              "    40% {\n",
              "      border-color: transparent;\n",
              "      border-right-color: var(--fill-color);\n",
              "      border-top-color: var(--fill-color);\n",
              "    }\n",
              "    60% {\n",
              "      border-color: transparent;\n",
              "      border-right-color: var(--fill-color);\n",
              "    }\n",
              "    80% {\n",
              "      border-color: transparent;\n",
              "      border-right-color: var(--fill-color);\n",
              "      border-bottom-color: var(--fill-color);\n",
              "    }\n",
              "    90% {\n",
              "      border-color: transparent;\n",
              "      border-bottom-color: var(--fill-color);\n",
              "    }\n",
              "  }\n",
              "</style>\n",
              "\n",
              "  <script>\n",
              "    async function quickchart(key) {\n",
              "      const quickchartButtonEl =\n",
              "        document.querySelector('#' + key + ' button');\n",
              "      quickchartButtonEl.disabled = true;  // To prevent multiple clicks.\n",
              "      quickchartButtonEl.classList.add('colab-df-spinner');\n",
              "      try {\n",
              "        const charts = await google.colab.kernel.invokeFunction(\n",
              "            'suggestCharts', [key], {});\n",
              "      } catch (error) {\n",
              "        console.error('Error during call to suggestCharts:', error);\n",
              "      }\n",
              "      quickchartButtonEl.classList.remove('colab-df-spinner');\n",
              "      quickchartButtonEl.classList.add('colab-df-quickchart-complete');\n",
              "    }\n",
              "    (() => {\n",
              "      let quickchartButtonEl =\n",
              "        document.querySelector('#df-6e8f5b6b-f558-4cd5-9fe7-bda65eda3688 button');\n",
              "      quickchartButtonEl.style.display =\n",
              "        google.colab.kernel.accessAllowed ? 'block' : 'none';\n",
              "    })();\n",
              "  </script>\n",
              "</div>\n",
              "\n",
              "    </div>\n",
              "  </div>\n"
            ],
            "application/vnd.google.colaboratory.intrinsic+json": {
              "type": "dataframe",
              "variable_name": "df",
              "summary": "{\n  \"name\": \"df\",\n  \"rows\": 12960,\n  \"fields\": [\n    {\n      \"column\": \"X1\",\n      \"properties\": {\n        \"dtype\": \"category\",\n        \"num_unique_values\": 3,\n        \"samples\": [\n          \"usual\",\n          \"pretentious\",\n          \"great_pret\"\n        ],\n        \"semantic_type\": \"\",\n        \"description\": \"\"\n      }\n    },\n    {\n      \"column\": \"X2\",\n      \"properties\": {\n        \"dtype\": \"category\",\n        \"num_unique_values\": 5,\n        \"samples\": [\n          \"less_proper\",\n          \"very_crit\",\n          \"improper\"\n        ],\n        \"semantic_type\": \"\",\n        \"description\": \"\"\n      }\n    },\n    {\n      \"column\": \"X3\",\n      \"properties\": {\n        \"dtype\": \"category\",\n        \"num_unique_values\": 4,\n        \"samples\": [\n          \"completed\",\n          \"foster\",\n          \"complete\"\n        ],\n        \"semantic_type\": \"\",\n        \"description\": \"\"\n      }\n    },\n    {\n      \"column\": \"X4\",\n      \"properties\": {\n        \"dtype\": \"category\",\n        \"num_unique_values\": 4,\n        \"samples\": [\n          \"2\",\n          \"more\",\n          \"1\"\n        ],\n        \"semantic_type\": \"\",\n        \"description\": \"\"\n      }\n    },\n    {\n      \"column\": \"X5\",\n      \"properties\": {\n        \"dtype\": \"category\",\n        \"num_unique_values\": 3,\n        \"samples\": [\n          \"convenient\",\n          \"less_conv\",\n          \"critical\"\n        ],\n        \"semantic_type\": \"\",\n        \"description\": \"\"\n      }\n    },\n    {\n      \"column\": \"X6\",\n      \"properties\": {\n        \"dtype\": \"category\",\n        \"num_unique_values\": 2,\n        \"samples\": [\n          \"inconv\",\n          \"convenient\"\n        ],\n        \"semantic_type\": \"\",\n        \"description\": \"\"\n      }\n    },\n    {\n      \"column\": \"X7\",\n      \"properties\": {\n        \"dtype\": \"category\",\n        \"num_unique_values\": 3,\n        \"samples\": [\n          \"nonprob\",\n          \"slightly_prob\"\n        ],\n        \"semantic_type\": \"\",\n        \"description\": \"\"\n      }\n    },\n    {\n      \"column\": \"X8\",\n      \"properties\": {\n        \"dtype\": \"category\",\n        \"num_unique_values\": 3,\n        \"samples\": [\n          \"recommended\",\n          \"priority\"\n        ],\n        \"semantic_type\": \"\",\n        \"description\": \"\"\n      }\n    },\n    {\n      \"column\": \"Target\",\n      \"properties\": {\n        \"dtype\": \"category\",\n        \"num_unique_values\": 5,\n        \"samples\": [\n          \"priority\",\n          \"spec_prior\"\n        ],\n        \"semantic_type\": \"\",\n        \"description\": \"\"\n      }\n    }\n  ]\n}"
            }
          },
          "metadata": {},
          "execution_count": 3
        }
      ]
    },
    {
      "cell_type": "code",
      "source": [
        "df.isnull().sum()"
      ],
      "metadata": {
        "colab": {
          "base_uri": "https://localhost:8080/",
          "height": 366
        },
        "id": "Mb1fgmwGUtbb",
        "outputId": "7351efd8-e09f-4e2e-f791-71454a3288d5"
      },
      "execution_count": 4,
      "outputs": [
        {
          "output_type": "execute_result",
          "data": {
            "text/plain": [
              "X1        0\n",
              "X2        0\n",
              "X3        0\n",
              "X4        0\n",
              "X5        0\n",
              "X6        0\n",
              "X7        0\n",
              "X8        0\n",
              "Target    0\n",
              "dtype: int64"
            ],
            "text/html": [
              "<table border=\"1\" class=\"dataframe\">\n",
              "  <thead>\n",
              "    <tr style=\"text-align: right;\">\n",
              "      <th></th>\n",
              "      <th>0</th>\n",
              "    </tr>\n",
              "  </thead>\n",
              "  <tbody>\n",
              "    <tr>\n",
              "      <th>X1</th>\n",
              "      <td>0</td>\n",
              "    </tr>\n",
              "    <tr>\n",
              "      <th>X2</th>\n",
              "      <td>0</td>\n",
              "    </tr>\n",
              "    <tr>\n",
              "      <th>X3</th>\n",
              "      <td>0</td>\n",
              "    </tr>\n",
              "    <tr>\n",
              "      <th>X4</th>\n",
              "      <td>0</td>\n",
              "    </tr>\n",
              "    <tr>\n",
              "      <th>X5</th>\n",
              "      <td>0</td>\n",
              "    </tr>\n",
              "    <tr>\n",
              "      <th>X6</th>\n",
              "      <td>0</td>\n",
              "    </tr>\n",
              "    <tr>\n",
              "      <th>X7</th>\n",
              "      <td>0</td>\n",
              "    </tr>\n",
              "    <tr>\n",
              "      <th>X8</th>\n",
              "      <td>0</td>\n",
              "    </tr>\n",
              "    <tr>\n",
              "      <th>Target</th>\n",
              "      <td>0</td>\n",
              "    </tr>\n",
              "  </tbody>\n",
              "</table><br><label><b>dtype:</b> int64</label>"
            ]
          },
          "metadata": {},
          "execution_count": 4
        }
      ]
    },
    {
      "cell_type": "code",
      "source": [
        "df.duplicated().sum()"
      ],
      "metadata": {
        "colab": {
          "base_uri": "https://localhost:8080/"
        },
        "id": "Y4XUZnwpU0bT",
        "outputId": "801e723b-b588-4aaf-ac9d-aaa707279891"
      },
      "execution_count": 5,
      "outputs": [
        {
          "output_type": "execute_result",
          "data": {
            "text/plain": [
              "0"
            ]
          },
          "metadata": {},
          "execution_count": 5
        }
      ]
    },
    {
      "cell_type": "code",
      "source": [
        "df.info()"
      ],
      "metadata": {
        "colab": {
          "base_uri": "https://localhost:8080/"
        },
        "id": "zd3MP6WOU380",
        "outputId": "4e3bf16a-1b92-4cd3-a39c-f5ec3f76e59a"
      },
      "execution_count": 6,
      "outputs": [
        {
          "output_type": "stream",
          "name": "stdout",
          "text": [
            "<class 'pandas.core.frame.DataFrame'>\n",
            "RangeIndex: 12960 entries, 0 to 12959\n",
            "Data columns (total 9 columns):\n",
            " #   Column  Non-Null Count  Dtype \n",
            "---  ------  --------------  ----- \n",
            " 0   X1      12960 non-null  object\n",
            " 1   X2      12960 non-null  object\n",
            " 2   X3      12960 non-null  object\n",
            " 3   X4      12960 non-null  object\n",
            " 4   X5      12960 non-null  object\n",
            " 5   X6      12960 non-null  object\n",
            " 6   X7      12960 non-null  object\n",
            " 7   X8      12960 non-null  object\n",
            " 8   Target  12960 non-null  object\n",
            "dtypes: object(9)\n",
            "memory usage: 911.4+ KB\n"
          ]
        }
      ]
    },
    {
      "cell_type": "markdown",
      "source": [
        "## Data Preprocessing"
      ],
      "metadata": {
        "id": "RhMvfwMzVkd7"
      }
    },
    {
      "cell_type": "code",
      "source": [
        "from sklearn.preprocessing import LabelEncoder\n",
        "le = LabelEncoder()"
      ],
      "metadata": {
        "id": "-zELXUXgU5cD"
      },
      "execution_count": 8,
      "outputs": []
    },
    {
      "cell_type": "code",
      "source": [
        "df['X1'] = le.fit_transform(df['X1'])\n",
        "df['X2'] = le.fit_transform(df['X2'])\n",
        "df['X3'] = le.fit_transform(df['X3'])\n",
        "df['X4'] = le.fit_transform(df['X4'])\n",
        "df['X5'] = le.fit_transform(df['X5'])\n",
        "df['X6'] = le.fit_transform(df['X6'])\n",
        "df['X7'] = le.fit_transform(df['X7'])\n",
        "df['X8'] = le.fit_transform(df['X8'])"
      ],
      "metadata": {
        "id": "rFFxvWbLVuRT"
      },
      "execution_count": 9,
      "outputs": []
    },
    {
      "cell_type": "code",
      "source": [
        "df.info()"
      ],
      "metadata": {
        "colab": {
          "base_uri": "https://localhost:8080/"
        },
        "id": "DbJvGLd-V9ni",
        "outputId": "0cf4e6f6-96e9-446b-e2c4-6c5a71fb249b"
      },
      "execution_count": 10,
      "outputs": [
        {
          "output_type": "stream",
          "name": "stdout",
          "text": [
            "<class 'pandas.core.frame.DataFrame'>\n",
            "RangeIndex: 12960 entries, 0 to 12959\n",
            "Data columns (total 9 columns):\n",
            " #   Column  Non-Null Count  Dtype \n",
            "---  ------  --------------  ----- \n",
            " 0   X1      12960 non-null  int64 \n",
            " 1   X2      12960 non-null  int64 \n",
            " 2   X3      12960 non-null  int64 \n",
            " 3   X4      12960 non-null  int64 \n",
            " 4   X5      12960 non-null  int64 \n",
            " 5   X6      12960 non-null  int64 \n",
            " 6   X7      12960 non-null  int64 \n",
            " 7   X8      12960 non-null  int64 \n",
            " 8   Target  12960 non-null  object\n",
            "dtypes: int64(8), object(1)\n",
            "memory usage: 911.4+ KB\n"
          ]
        }
      ]
    },
    {
      "cell_type": "code",
      "source": [
        "df['Target'] = le.fit_transform(df['Target'])"
      ],
      "metadata": {
        "id": "_idfHlJ0WC2z"
      },
      "execution_count": 11,
      "outputs": []
    },
    {
      "cell_type": "code",
      "source": [
        "df.describe().T"
      ],
      "metadata": {
        "colab": {
          "base_uri": "https://localhost:8080/",
          "height": 332
        },
        "id": "b6-EDtceWKdy",
        "outputId": "507565d7-5560-4775-a001-0093d1a38874"
      },
      "execution_count": 13,
      "outputs": [
        {
          "output_type": "execute_result",
          "data": {
            "text/plain": [
              "          count      mean       std  min   25%  50%   75%  max\n",
              "X1      12960.0  1.000000  0.816528  0.0  0.00  1.0  2.00  2.0\n",
              "X2      12960.0  2.000000  1.414268  0.0  1.00  2.0  3.00  4.0\n",
              "X3      12960.0  1.500000  1.118077  0.0  0.75  1.5  2.25  3.0\n",
              "X4      12960.0  1.500000  1.118077  0.0  0.75  1.5  2.25  3.0\n",
              "X5      12960.0  1.000000  0.816528  0.0  0.00  1.0  2.00  2.0\n",
              "X6      12960.0  0.500000  0.500019  0.0  0.00  0.5  1.00  1.0\n",
              "X7      12960.0  1.000000  0.816528  0.0  0.00  1.0  2.00  2.0\n",
              "X8      12960.0  1.000000  0.816528  0.0  0.00  1.0  2.00  2.0\n",
              "Target  12960.0  1.366821  1.294212  0.0  0.00  1.0  3.00  4.0"
            ],
            "text/html": [
              "\n",
              "  <div id=\"df-4a08c12d-b399-414c-9dbd-863cc31c067b\" class=\"colab-df-container\">\n",
              "    <div>\n",
              "<style scoped>\n",
              "    .dataframe tbody tr th:only-of-type {\n",
              "        vertical-align: middle;\n",
              "    }\n",
              "\n",
              "    .dataframe tbody tr th {\n",
              "        vertical-align: top;\n",
              "    }\n",
              "\n",
              "    .dataframe thead th {\n",
              "        text-align: right;\n",
              "    }\n",
              "</style>\n",
              "<table border=\"1\" class=\"dataframe\">\n",
              "  <thead>\n",
              "    <tr style=\"text-align: right;\">\n",
              "      <th></th>\n",
              "      <th>count</th>\n",
              "      <th>mean</th>\n",
              "      <th>std</th>\n",
              "      <th>min</th>\n",
              "      <th>25%</th>\n",
              "      <th>50%</th>\n",
              "      <th>75%</th>\n",
              "      <th>max</th>\n",
              "    </tr>\n",
              "  </thead>\n",
              "  <tbody>\n",
              "    <tr>\n",
              "      <th>X1</th>\n",
              "      <td>12960.0</td>\n",
              "      <td>1.000000</td>\n",
              "      <td>0.816528</td>\n",
              "      <td>0.0</td>\n",
              "      <td>0.00</td>\n",
              "      <td>1.0</td>\n",
              "      <td>2.00</td>\n",
              "      <td>2.0</td>\n",
              "    </tr>\n",
              "    <tr>\n",
              "      <th>X2</th>\n",
              "      <td>12960.0</td>\n",
              "      <td>2.000000</td>\n",
              "      <td>1.414268</td>\n",
              "      <td>0.0</td>\n",
              "      <td>1.00</td>\n",
              "      <td>2.0</td>\n",
              "      <td>3.00</td>\n",
              "      <td>4.0</td>\n",
              "    </tr>\n",
              "    <tr>\n",
              "      <th>X3</th>\n",
              "      <td>12960.0</td>\n",
              "      <td>1.500000</td>\n",
              "      <td>1.118077</td>\n",
              "      <td>0.0</td>\n",
              "      <td>0.75</td>\n",
              "      <td>1.5</td>\n",
              "      <td>2.25</td>\n",
              "      <td>3.0</td>\n",
              "    </tr>\n",
              "    <tr>\n",
              "      <th>X4</th>\n",
              "      <td>12960.0</td>\n",
              "      <td>1.500000</td>\n",
              "      <td>1.118077</td>\n",
              "      <td>0.0</td>\n",
              "      <td>0.75</td>\n",
              "      <td>1.5</td>\n",
              "      <td>2.25</td>\n",
              "      <td>3.0</td>\n",
              "    </tr>\n",
              "    <tr>\n",
              "      <th>X5</th>\n",
              "      <td>12960.0</td>\n",
              "      <td>1.000000</td>\n",
              "      <td>0.816528</td>\n",
              "      <td>0.0</td>\n",
              "      <td>0.00</td>\n",
              "      <td>1.0</td>\n",
              "      <td>2.00</td>\n",
              "      <td>2.0</td>\n",
              "    </tr>\n",
              "    <tr>\n",
              "      <th>X6</th>\n",
              "      <td>12960.0</td>\n",
              "      <td>0.500000</td>\n",
              "      <td>0.500019</td>\n",
              "      <td>0.0</td>\n",
              "      <td>0.00</td>\n",
              "      <td>0.5</td>\n",
              "      <td>1.00</td>\n",
              "      <td>1.0</td>\n",
              "    </tr>\n",
              "    <tr>\n",
              "      <th>X7</th>\n",
              "      <td>12960.0</td>\n",
              "      <td>1.000000</td>\n",
              "      <td>0.816528</td>\n",
              "      <td>0.0</td>\n",
              "      <td>0.00</td>\n",
              "      <td>1.0</td>\n",
              "      <td>2.00</td>\n",
              "      <td>2.0</td>\n",
              "    </tr>\n",
              "    <tr>\n",
              "      <th>X8</th>\n",
              "      <td>12960.0</td>\n",
              "      <td>1.000000</td>\n",
              "      <td>0.816528</td>\n",
              "      <td>0.0</td>\n",
              "      <td>0.00</td>\n",
              "      <td>1.0</td>\n",
              "      <td>2.00</td>\n",
              "      <td>2.0</td>\n",
              "    </tr>\n",
              "    <tr>\n",
              "      <th>Target</th>\n",
              "      <td>12960.0</td>\n",
              "      <td>1.366821</td>\n",
              "      <td>1.294212</td>\n",
              "      <td>0.0</td>\n",
              "      <td>0.00</td>\n",
              "      <td>1.0</td>\n",
              "      <td>3.00</td>\n",
              "      <td>4.0</td>\n",
              "    </tr>\n",
              "  </tbody>\n",
              "</table>\n",
              "</div>\n",
              "    <div class=\"colab-df-buttons\">\n",
              "\n",
              "  <div class=\"colab-df-container\">\n",
              "    <button class=\"colab-df-convert\" onclick=\"convertToInteractive('df-4a08c12d-b399-414c-9dbd-863cc31c067b')\"\n",
              "            title=\"Convert this dataframe to an interactive table.\"\n",
              "            style=\"display:none;\">\n",
              "\n",
              "  <svg xmlns=\"http://www.w3.org/2000/svg\" height=\"24px\" viewBox=\"0 -960 960 960\">\n",
              "    <path d=\"M120-120v-720h720v720H120Zm60-500h600v-160H180v160Zm220 220h160v-160H400v160Zm0 220h160v-160H400v160ZM180-400h160v-160H180v160Zm440 0h160v-160H620v160ZM180-180h160v-160H180v160Zm440 0h160v-160H620v160Z\"/>\n",
              "  </svg>\n",
              "    </button>\n",
              "\n",
              "  <style>\n",
              "    .colab-df-container {\n",
              "      display:flex;\n",
              "      gap: 12px;\n",
              "    }\n",
              "\n",
              "    .colab-df-convert {\n",
              "      background-color: #E8F0FE;\n",
              "      border: none;\n",
              "      border-radius: 50%;\n",
              "      cursor: pointer;\n",
              "      display: none;\n",
              "      fill: #1967D2;\n",
              "      height: 32px;\n",
              "      padding: 0 0 0 0;\n",
              "      width: 32px;\n",
              "    }\n",
              "\n",
              "    .colab-df-convert:hover {\n",
              "      background-color: #E2EBFA;\n",
              "      box-shadow: 0px 1px 2px rgba(60, 64, 67, 0.3), 0px 1px 3px 1px rgba(60, 64, 67, 0.15);\n",
              "      fill: #174EA6;\n",
              "    }\n",
              "\n",
              "    .colab-df-buttons div {\n",
              "      margin-bottom: 4px;\n",
              "    }\n",
              "\n",
              "    [theme=dark] .colab-df-convert {\n",
              "      background-color: #3B4455;\n",
              "      fill: #D2E3FC;\n",
              "    }\n",
              "\n",
              "    [theme=dark] .colab-df-convert:hover {\n",
              "      background-color: #434B5C;\n",
              "      box-shadow: 0px 1px 3px 1px rgba(0, 0, 0, 0.15);\n",
              "      filter: drop-shadow(0px 1px 2px rgba(0, 0, 0, 0.3));\n",
              "      fill: #FFFFFF;\n",
              "    }\n",
              "  </style>\n",
              "\n",
              "    <script>\n",
              "      const buttonEl =\n",
              "        document.querySelector('#df-4a08c12d-b399-414c-9dbd-863cc31c067b button.colab-df-convert');\n",
              "      buttonEl.style.display =\n",
              "        google.colab.kernel.accessAllowed ? 'block' : 'none';\n",
              "\n",
              "      async function convertToInteractive(key) {\n",
              "        const element = document.querySelector('#df-4a08c12d-b399-414c-9dbd-863cc31c067b');\n",
              "        const dataTable =\n",
              "          await google.colab.kernel.invokeFunction('convertToInteractive',\n",
              "                                                    [key], {});\n",
              "        if (!dataTable) return;\n",
              "\n",
              "        const docLinkHtml = 'Like what you see? Visit the ' +\n",
              "          '<a target=\"_blank\" href=https://colab.research.google.com/notebooks/data_table.ipynb>data table notebook</a>'\n",
              "          + ' to learn more about interactive tables.';\n",
              "        element.innerHTML = '';\n",
              "        dataTable['output_type'] = 'display_data';\n",
              "        await google.colab.output.renderOutput(dataTable, element);\n",
              "        const docLink = document.createElement('div');\n",
              "        docLink.innerHTML = docLinkHtml;\n",
              "        element.appendChild(docLink);\n",
              "      }\n",
              "    </script>\n",
              "  </div>\n",
              "\n",
              "\n",
              "<div id=\"df-16163ac4-f802-44a0-8b62-9fbf7719ab43\">\n",
              "  <button class=\"colab-df-quickchart\" onclick=\"quickchart('df-16163ac4-f802-44a0-8b62-9fbf7719ab43')\"\n",
              "            title=\"Suggest charts\"\n",
              "            style=\"display:none;\">\n",
              "\n",
              "<svg xmlns=\"http://www.w3.org/2000/svg\" height=\"24px\"viewBox=\"0 0 24 24\"\n",
              "     width=\"24px\">\n",
              "    <g>\n",
              "        <path d=\"M19 3H5c-1.1 0-2 .9-2 2v14c0 1.1.9 2 2 2h14c1.1 0 2-.9 2-2V5c0-1.1-.9-2-2-2zM9 17H7v-7h2v7zm4 0h-2V7h2v10zm4 0h-2v-4h2v4z\"/>\n",
              "    </g>\n",
              "</svg>\n",
              "  </button>\n",
              "\n",
              "<style>\n",
              "  .colab-df-quickchart {\n",
              "      --bg-color: #E8F0FE;\n",
              "      --fill-color: #1967D2;\n",
              "      --hover-bg-color: #E2EBFA;\n",
              "      --hover-fill-color: #174EA6;\n",
              "      --disabled-fill-color: #AAA;\n",
              "      --disabled-bg-color: #DDD;\n",
              "  }\n",
              "\n",
              "  [theme=dark] .colab-df-quickchart {\n",
              "      --bg-color: #3B4455;\n",
              "      --fill-color: #D2E3FC;\n",
              "      --hover-bg-color: #434B5C;\n",
              "      --hover-fill-color: #FFFFFF;\n",
              "      --disabled-bg-color: #3B4455;\n",
              "      --disabled-fill-color: #666;\n",
              "  }\n",
              "\n",
              "  .colab-df-quickchart {\n",
              "    background-color: var(--bg-color);\n",
              "    border: none;\n",
              "    border-radius: 50%;\n",
              "    cursor: pointer;\n",
              "    display: none;\n",
              "    fill: var(--fill-color);\n",
              "    height: 32px;\n",
              "    padding: 0;\n",
              "    width: 32px;\n",
              "  }\n",
              "\n",
              "  .colab-df-quickchart:hover {\n",
              "    background-color: var(--hover-bg-color);\n",
              "    box-shadow: 0 1px 2px rgba(60, 64, 67, 0.3), 0 1px 3px 1px rgba(60, 64, 67, 0.15);\n",
              "    fill: var(--button-hover-fill-color);\n",
              "  }\n",
              "\n",
              "  .colab-df-quickchart-complete:disabled,\n",
              "  .colab-df-quickchart-complete:disabled:hover {\n",
              "    background-color: var(--disabled-bg-color);\n",
              "    fill: var(--disabled-fill-color);\n",
              "    box-shadow: none;\n",
              "  }\n",
              "\n",
              "  .colab-df-spinner {\n",
              "    border: 2px solid var(--fill-color);\n",
              "    border-color: transparent;\n",
              "    border-bottom-color: var(--fill-color);\n",
              "    animation:\n",
              "      spin 1s steps(1) infinite;\n",
              "  }\n",
              "\n",
              "  @keyframes spin {\n",
              "    0% {\n",
              "      border-color: transparent;\n",
              "      border-bottom-color: var(--fill-color);\n",
              "      border-left-color: var(--fill-color);\n",
              "    }\n",
              "    20% {\n",
              "      border-color: transparent;\n",
              "      border-left-color: var(--fill-color);\n",
              "      border-top-color: var(--fill-color);\n",
              "    }\n",
              "    30% {\n",
              "      border-color: transparent;\n",
              "      border-left-color: var(--fill-color);\n",
              "      border-top-color: var(--fill-color);\n",
              "      border-right-color: var(--fill-color);\n",
              "    }\n",
              "    40% {\n",
              "      border-color: transparent;\n",
              "      border-right-color: var(--fill-color);\n",
              "      border-top-color: var(--fill-color);\n",
              "    }\n",
              "    60% {\n",
              "      border-color: transparent;\n",
              "      border-right-color: var(--fill-color);\n",
              "    }\n",
              "    80% {\n",
              "      border-color: transparent;\n",
              "      border-right-color: var(--fill-color);\n",
              "      border-bottom-color: var(--fill-color);\n",
              "    }\n",
              "    90% {\n",
              "      border-color: transparent;\n",
              "      border-bottom-color: var(--fill-color);\n",
              "    }\n",
              "  }\n",
              "</style>\n",
              "\n",
              "  <script>\n",
              "    async function quickchart(key) {\n",
              "      const quickchartButtonEl =\n",
              "        document.querySelector('#' + key + ' button');\n",
              "      quickchartButtonEl.disabled = true;  // To prevent multiple clicks.\n",
              "      quickchartButtonEl.classList.add('colab-df-spinner');\n",
              "      try {\n",
              "        const charts = await google.colab.kernel.invokeFunction(\n",
              "            'suggestCharts', [key], {});\n",
              "      } catch (error) {\n",
              "        console.error('Error during call to suggestCharts:', error);\n",
              "      }\n",
              "      quickchartButtonEl.classList.remove('colab-df-spinner');\n",
              "      quickchartButtonEl.classList.add('colab-df-quickchart-complete');\n",
              "    }\n",
              "    (() => {\n",
              "      let quickchartButtonEl =\n",
              "        document.querySelector('#df-16163ac4-f802-44a0-8b62-9fbf7719ab43 button');\n",
              "      quickchartButtonEl.style.display =\n",
              "        google.colab.kernel.accessAllowed ? 'block' : 'none';\n",
              "    })();\n",
              "  </script>\n",
              "</div>\n",
              "\n",
              "    </div>\n",
              "  </div>\n"
            ],
            "application/vnd.google.colaboratory.intrinsic+json": {
              "type": "dataframe",
              "summary": "{\n  \"name\": \"df\",\n  \"rows\": 9,\n  \"fields\": [\n    {\n      \"column\": \"count\",\n      \"properties\": {\n        \"dtype\": \"number\",\n        \"std\": 0.0,\n        \"min\": 12960.0,\n        \"max\": 12960.0,\n        \"num_unique_values\": 1,\n        \"samples\": [\n          12960.0\n        ],\n        \"semantic_type\": \"\",\n        \"description\": \"\"\n      }\n    },\n    {\n      \"column\": \"mean\",\n      \"properties\": {\n        \"dtype\": \"number\",\n        \"std\": 0.4326276005236067,\n        \"min\": 0.5,\n        \"max\": 2.0,\n        \"num_unique_values\": 5,\n        \"samples\": [\n          2.0\n        ],\n        \"semantic_type\": \"\",\n        \"description\": \"\"\n      }\n    },\n    {\n      \"column\": \"std\",\n      \"properties\": {\n        \"dtype\": \"number\",\n        \"std\": 0.28753188072431135,\n        \"min\": 0.5000192912398551,\n        \"max\": 1.4142681262391714,\n        \"num_unique_values\": 5,\n        \"samples\": [\n          1.4142681262391714\n        ],\n        \"semantic_type\": \"\",\n        \"description\": \"\"\n      }\n    },\n    {\n      \"column\": \"min\",\n      \"properties\": {\n        \"dtype\": \"number\",\n        \"std\": 0.0,\n        \"min\": 0.0,\n        \"max\": 0.0,\n        \"num_unique_values\": 1,\n        \"samples\": [\n          0.0\n        ],\n        \"semantic_type\": \"\",\n        \"description\": \"\"\n      }\n    },\n    {\n      \"column\": \"25%\",\n      \"properties\": {\n        \"dtype\": \"number\",\n        \"std\": 0.4228704818788425,\n        \"min\": 0.0,\n        \"max\": 1.0,\n        \"num_unique_values\": 3,\n        \"samples\": [\n          0.0\n        ],\n        \"semantic_type\": \"\",\n        \"description\": \"\"\n      }\n    },\n    {\n      \"column\": \"50%\",\n      \"properties\": {\n        \"dtype\": \"number\",\n        \"std\": 0.4330127018922193,\n        \"min\": 0.5,\n        \"max\": 2.0,\n        \"num_unique_values\": 4,\n        \"samples\": [\n          2.0\n        ],\n        \"semantic_type\": \"\",\n        \"description\": \"\"\n      }\n    },\n    {\n      \"column\": \"75%\",\n      \"properties\": {\n        \"dtype\": \"number\",\n        \"std\": 0.5994789404140899,\n        \"min\": 1.0,\n        \"max\": 3.0,\n        \"num_unique_values\": 4,\n        \"samples\": [\n          3.0\n        ],\n        \"semantic_type\": \"\",\n        \"description\": \"\"\n      }\n    },\n    {\n      \"column\": \"max\",\n      \"properties\": {\n        \"dtype\": \"number\",\n        \"std\": 1.0137937550497031,\n        \"min\": 1.0,\n        \"max\": 4.0,\n        \"num_unique_values\": 4,\n        \"samples\": [\n          4.0\n        ],\n        \"semantic_type\": \"\",\n        \"description\": \"\"\n      }\n    }\n  ]\n}"
            }
          },
          "metadata": {},
          "execution_count": 13
        }
      ]
    },
    {
      "cell_type": "code",
      "source": [
        "sns.pairplot(df)"
      ],
      "metadata": {
        "colab": {
          "base_uri": "https://localhost:8080/",
          "height": 1000
        },
        "id": "-YCT1PdZWWZo",
        "outputId": "942ae26d-6eae-41cd-927c-4199692e112d"
      },
      "execution_count": 16,
      "outputs": [
        {
          "output_type": "execute_result",
          "data": {
            "text/plain": [
              "<seaborn.axisgrid.PairGrid at 0x7e307c9ad3c0>"
            ]
          },
          "metadata": {},
          "execution_count": 16
        },
        {
          "output_type": "display_data",
          "data": {
            "text/plain": [
              "<Figure size 2250x2250 with 90 Axes>"
            ],
            "image/png": "[encoded data removed]"
          },
          "metadata": {}
        }
      ]
    },
    {
      "cell_type": "markdown",
      "source": [
        "# Data visulaization"
      ],
      "metadata": {
        "id": "AaFOmIjOWt__"
      }
    },
    {
      "cell_type": "code",
      "source": [
        "df.info()"
      ],
      "metadata": {
        "colab": {
          "base_uri": "https://localhost:8080/"
        },
        "id": "wN4Ql2lsW3sv",
        "outputId": "2ec46dae-599b-493b-c25f-aa3ebcca447f"
      },
      "execution_count": 17,
      "outputs": [
        {
          "output_type": "stream",
          "name": "stdout",
          "text": [
            "<class 'pandas.core.frame.DataFrame'>\n",
            "RangeIndex: 12960 entries, 0 to 12959\n",
            "Data columns (total 9 columns):\n",
            " #   Column  Non-Null Count  Dtype\n",
            "---  ------  --------------  -----\n",
            " 0   X1      12960 non-null  int64\n",
            " 1   X2      12960 non-null  int64\n",
            " 2   X3      12960 non-null  int64\n",
            " 3   X4      12960 non-null  int64\n",
            " 4   X5      12960 non-null  int64\n",
            " 5   X6      12960 non-null  int64\n",
            " 6   X7      12960 non-null  int64\n",
            " 7   X8      12960 non-null  int64\n",
            " 8   Target  12960 non-null  int64\n",
            "dtypes: int64(9)\n",
            "memory usage: 911.4 KB\n"
          ]
        }
      ]
    },
    {
      "cell_type": "code",
      "source": [
        "sns.histplot(x='X1',data=df,color='Yellow')\n",
        "plt.show()"
      ],
      "metadata": {
        "colab": {
          "base_uri": "https://localhost:8080/",
          "height": 466
        },
        "id": "Q6dwZQ87Wd9n",
        "outputId": "67595cd5-d7c9-4ea7-f162-3cb8d47fea14"
      },
      "execution_count": 18,
      "outputs": [
        {
          "output_type": "execute_result",
          "data": {
            "text/plain": [
              "<Axes: xlabel='X1', ylabel='Count'>"
            ]
          },
          "metadata": {},
          "execution_count": 18
        },
        {
          "output_type": "display_data",
          "data": {
            "text/plain": [
              "<Figure size 640x480 with 1 Axes>"
            ],
            "image/png": "[encoded data removed]"
          },
          "metadata": {}
        }
      ]
    },
    {
      "cell_type": "code",
      "source": [
        "sns.histplot(x='X2',data=df,color='red')\n",
        "plt.show()"
      ],
      "metadata": {
        "colab": {
          "base_uri": "https://localhost:8080/",
          "height": 449
        },
        "id": "-zuzSiF7W-1J",
        "outputId": "34667294-18a5-4a1f-83f4-e551d869f92b"
      },
      "execution_count": 19,
      "outputs": [
        {
          "output_type": "display_data",
          "data": {
            "text/plain": [
              "<Figure size 640x480 with 1 Axes>"
            ],
            "image/png": "[encoded data removed]"
          },
          "metadata": {}
        }
      ]
    },
    {
      "cell_type": "code",
      "source": [
        "sns.histplot(x='X3',data=df,color='blue')\n",
        "plt.show()"
      ],
      "metadata": {
        "colab": {
          "base_uri": "https://localhost:8080/",
          "height": 449
        },
        "id": "eRlVesFqXW8b",
        "outputId": "d86a3683-3d1b-4fed-b151-bb922c500953"
      },
      "execution_count": 20,
      "outputs": [
        {
          "output_type": "display_data",
          "data": {
            "text/plain": [
              "<Figure size 640x480 with 1 Axes>"
            ],
            "image/png": "[encoded data removed]"
          },
          "metadata": {}
        }
      ]
    },
    {
      "cell_type": "code",
      "source": [
        "sns.histplot(x='X4',data=df,color='green')\n",
        "plt.show()"
      ],
      "metadata": {
        "colab": {
          "base_uri": "https://localhost:8080/",
          "height": 449
        },
        "id": "xKpc9_hjXYCr",
        "outputId": "3b798248-e907-45f1-a4d1-de6b0f43bcc2"
      },
      "execution_count": 21,
      "outputs": [
        {
          "output_type": "display_data",
          "data": {
            "text/plain": [
              "<Figure size 640x480 with 1 Axes>"
            ],
            "image/png": "[encoded data removed]"
          },
          "metadata": {}
        }
      ]
    },
    {
      "cell_type": "code",
      "source": [
        "sns.histplot(x='X5',data=df,color='orange')\n",
        "plt.show()"
      ],
      "metadata": {
        "colab": {
          "base_uri": "https://localhost:8080/",
          "height": 449
        },
        "id": "oGYTi7UPXZND",
        "outputId": "0b9b5add-cae7-411c-98d0-16215ff56b42"
      },
      "execution_count": 22,
      "outputs": [
        {
          "output_type": "display_data",
          "data": {
            "text/plain": [
              "<Figure size 640x480 with 1 Axes>"
            ],
            "image/png": "[encoded data removed]"
          },
          "metadata": {}
        }
      ]
    },
    {
      "cell_type": "code",
      "source": [
        "sns.histplot(x='X6',data=df,color='pink')\n",
        "plt.show()"
      ],
      "metadata": {
        "colab": {
          "base_uri": "https://localhost:8080/",
          "height": 449
        },
        "id": "PGmxSxVkXbB8",
        "outputId": "81a3d332-2af9-4f5f-c981-ea7c6d786a89"
      },
      "execution_count": 23,
      "outputs": [
        {
          "output_type": "display_data",
          "data": {
            "text/plain": [
              "<Figure size 640x480 with 1 Axes>"
            ],
            "image/png": "[encoded data removed]"
          },
          "metadata": {}
        }
      ]
    },
    {
      "cell_type": "code",
      "source": [
        "sns.histplot(x='X7',data=df,color='purple')\n",
        "plt.show()"
      ],
      "metadata": {
        "colab": {
          "base_uri": "https://localhost:8080/",
          "height": 449
        },
        "id": "E9wYbCiNXdkk",
        "outputId": "62951a87-0e35-4666-a376-a1ae9be5959a"
      },
      "execution_count": 24,
      "outputs": [
        {
          "output_type": "display_data",
          "data": {
            "text/plain": [
              "<Figure size 640x480 with 1 Axes>"
            ],
            "image/png": "[encoded data removed]"
          },
          "metadata": {}
        }
      ]
    },
    {
      "cell_type": "code",
      "source": [
        "sns.histplot(x='X8',data=df,color='brown')\n",
        "plt.show()"
      ],
      "metadata": {
        "colab": {
          "base_uri": "https://localhost:8080/",
          "height": 449
        },
        "id": "5cN_TdDWXgEr",
        "outputId": "7043935d-91b0-4a03-fe35-a21ad27338f0"
      },
      "execution_count": 25,
      "outputs": [
        {
          "output_type": "display_data",
          "data": {
            "text/plain": [
              "<Figure size 640x480 with 1 Axes>"
            ],
            "image/png": "[encoded data removed]"
          },
          "metadata": {}
        }
      ]
    },
    {
      "cell_type": "markdown",
      "source": [
        "# Model Building  -- Bernouilli Naive Bayes"
      ],
      "metadata": {
        "id": "ThVmV3VKcvs7"
      }
    },
    {
      "cell_type": "code",
      "source": [
        "X= df.drop('Target',axis=1)\n",
        "y= df['Target']"
      ],
      "metadata": {
        "id": "vYMCUkLaXg_E"
      },
      "execution_count": 26,
      "outputs": []
    },
    {
      "cell_type": "code",
      "source": [
        "from sklearn.model_selection import train_test_split\n",
        "X_train,X_test,y_train,y_test = train_test_split(X,y,test_size=0.25,random_state=42)"
      ],
      "metadata": {
        "id": "YwwcTyg5YRpZ"
      },
      "execution_count": 29,
      "outputs": []
    },
    {
      "cell_type": "code",
      "source": [
        "from sklearn.preprocessing import StandardScaler\n",
        "sc = StandardScaler()\n",
        "X_train = sc.fit_transform(X_train)\n",
        "X_test = sc.transform(X_test)"
      ],
      "metadata": {
        "id": "GVzGVTNsYaKL"
      },
      "execution_count": 30,
      "outputs": []
    },
    {
      "cell_type": "code",
      "source": [
        "from sklearn.naive_bayes import BernoulliNB\n",
        "bb = BernoulliNB()\n",
        "bb.fit(X_train,y_train)"
      ],
      "metadata": {
        "colab": {
          "base_uri": "https://localhost:8080/",
          "height": 75
        },
        "id": "vKsDxDp1YK2i",
        "outputId": "746d0b37-8875-46c9-cb94-7275f5249bfc"
      },
      "execution_count": 32,
      "outputs": [
        {
          "output_type": "execute_result",
          "data": {
            "text/plain": [
              "BernoulliNB()"
            ],
            "text/html": [
              "<style>#sk-container-id-1 {color: black;}#sk-container-id-1 pre{padding: 0;}#sk-container-id-1 div.sk-toggleable {background-color: white;}#sk-container-id-1 label.sk-toggleable__label {cursor: pointer;display: block;width: 100%;margin-bottom: 0;padding: 0.3em;box-sizing: border-box;text-align: center;}#sk-container-id-1 label.sk-toggleable__label-arrow:before {content: \"▸\";float: left;margin-right: 0.25em;color: #696969;}#sk-container-id-1 label.sk-toggleable__label-arrow:hover:before {color: black;}#sk-container-id-1 div.sk-estimator:hover label.sk-toggleable__label-arrow:before {color: black;}#sk-container-id-1 div.sk-toggleable__content {max-height: 0;max-width: 0;overflow: hidden;text-align: left;background-color: #f0f8ff;}#sk-container-id-1 div.sk-toggleable__content pre {margin: 0.2em;color: black;border-radius: 0.25em;background-color: #f0f8ff;}#sk-container-id-1 input.sk-toggleable__control:checked~div.sk-toggleable__content {max-height: 200px;max-width: 100%;overflow: auto;}#sk-container-id-1 input.sk-toggleable__control:checked~label.sk-toggleable__label-arrow:before {content: \"▾\";}#sk-container-id-1 div.sk-estimator input.sk-toggleable__control:checked~label.sk-toggleable__label {background-color: #d4ebff;}#sk-container-id-1 div.sk-label input.sk-toggleable__control:checked~label.sk-toggleable__label {background-color: #d4ebff;}#sk-container-id-1 input.sk-hidden--visually {border: 0;clip: rect(1px 1px 1px 1px);clip: rect(1px, 1px, 1px, 1px);height: 1px;margin: -1px;overflow: hidden;padding: 0;position: absolute;width: 1px;}#sk-container-id-1 div.sk-estimator {font-family: monospace;background-color: #f0f8ff;border: 1px dotted black;border-radius: 0.25em;box-sizing: border-box;margin-bottom: 0.5em;}#sk-container-id-1 div.sk-estimator:hover {background-color: #d4ebff;}#sk-container-id-1 div.sk-parallel-item::after {content: \"\";width: 100%;border-bottom: 1px solid gray;flex-grow: 1;}#sk-container-id-1 div.sk-label:hover label.sk-toggleable__label {background-color: #d4ebff;}#sk-container-id-1 div.sk-serial::before {content: \"\";position: absolute;border-left: 1px solid gray;box-sizing: border-box;top: 0;bottom: 0;left: 50%;z-index: 0;}#sk-container-id-1 div.sk-serial {display: flex;flex-direction: column;align-items: center;background-color: white;padding-right: 0.2em;padding-left: 0.2em;position: relative;}#sk-container-id-1 div.sk-item {position: relative;z-index: 1;}#sk-container-id-1 div.sk-parallel {display: flex;align-items: stretch;justify-content: center;background-color: white;position: relative;}#sk-container-id-1 div.sk-item::before, #sk-container-id-1 div.sk-parallel-item::before {content: \"\";position: absolute;border-left: 1px solid gray;box-sizing: border-box;top: 0;bottom: 0;left: 50%;z-index: -1;}#sk-container-id-1 div.sk-parallel-item {display: flex;flex-direction: column;z-index: 1;position: relative;background-color: white;}#sk-container-id-1 div.sk-parallel-item:first-child::after {align-self: flex-end;width: 50%;}#sk-container-id-1 div.sk-parallel-item:last-child::after {align-self: flex-start;width: 50%;}#sk-container-id-1 div.sk-parallel-item:only-child::after {width: 0;}#sk-container-id-1 div.sk-dashed-wrapped {border: 1px dashed gray;margin: 0 0.4em 0.5em 0.4em;box-sizing: border-box;padding-bottom: 0.4em;background-color: white;}#sk-container-id-1 div.sk-label label {font-family: monospace;font-weight: bold;display: inline-block;line-height: 1.2em;}#sk-container-id-1 div.sk-label-container {text-align: center;}#sk-container-id-1 div.sk-container {/* jupyter's `normalize.less` sets `[hidden] { display: none; }` but bootstrap.min.css set `[hidden] { display: none !important; }` so we also need the `!important` here to be able to override the default hidden behavior on the sphinx rendered scikit-learn.org. See: https://github.com/scikit-learn/scikit-learn/issues/21755 */display: inline-block !important;position: relative;}#sk-container-id-1 div.sk-text-repr-fallback {display: none;}</style><div id=\"sk-container-id-1\" class=\"sk-top-container\"><div class=\"sk-text-repr-fallback\"><pre>BernoulliNB()</pre><b>In a Jupyter environment, please rerun this cell to show the HTML representation or trust the notebook. <br />On GitHub, the HTML representation is unable to render, please try loading this page with nbviewer.org.</b></div><div class=\"sk-container\" hidden><div class=\"sk-item\"><div class=\"sk-estimator sk-toggleable\"><input class=\"sk-toggleable__control sk-hidden--visually\" id=\"sk-estimator-id-1\" type=\"checkbox\" checked><label for=\"sk-estimator-id-1\" class=\"sk-toggleable__label sk-toggleable__label-arrow\">BernoulliNB</label><div class=\"sk-toggleable__content\"><pre>BernoulliNB()</pre></div></div></div></div></div>"
            ]
          },
          "metadata": {},
          "execution_count": 32
        }
      ]
    },
    {
      "cell_type": "code",
      "source": [
        "y_pred = bb.predict(X_test)"
      ],
      "metadata": {
        "id": "9n2ilCi4YQ8B"
      },
      "execution_count": 33,
      "outputs": []
    },
    {
      "cell_type": "code",
      "source": [
        "from sklearn.metrics import accuracy_score,confusion_matrix,classification_report\n",
        "print(accuracy_score(y_test,y_pred))"
      ],
      "metadata": {
        "colab": {
          "base_uri": "https://localhost:8080/"
        },
        "id": "ENR4Rf_RYqy9",
        "outputId": "9a20f4e4-f878-4696-e745-42bcc12949a3"
      },
      "execution_count": 34,
      "outputs": [
        {
          "output_type": "stream",
          "name": "stdout",
          "text": [
            "0.5385802469135802\n"
          ]
        }
      ]
    },
    {
      "cell_type": "code",
      "source": [
        "print(confusion_matrix(y_test,y_pred))"
      ],
      "metadata": {
        "colab": {
          "base_uri": "https://localhost:8080/"
        },
        "id": "DTHXRlI8YvCV",
        "outputId": "65cba66e-5c6c-41b5-eacb-aacc95eeac0f"
      },
      "execution_count": 35,
      "outputs": [
        {
          "output_type": "stream",
          "name": "stdout",
          "text": [
            "[[1012    0    0   80    0]\n",
            " [ 462  462    0  144    0]\n",
            " [   0    2    0    0    0]\n",
            " [ 553  169    0  271    0]\n",
            " [   0   85    0    0    0]]\n"
          ]
        }
      ]
    },
    {
      "cell_type": "code",
      "source": [
        "print(classification_report(y_test,y_pred))"
      ],
      "metadata": {
        "colab": {
          "base_uri": "https://localhost:8080/"
        },
        "id": "z8X0GwoUYwF1",
        "outputId": "949c2302-2ec2-4fb3-a9d1-50183f32a7de"
      },
      "execution_count": 37,
      "outputs": [
        {
          "output_type": "stream",
          "name": "stdout",
          "text": [
            "              precision    recall  f1-score   support\n",
            "\n",
            "           0       0.50      0.93      0.65      1092\n",
            "           1       0.64      0.43      0.52      1068\n",
            "           2       0.00      0.00      0.00         2\n",
            "           3       0.55      0.27      0.36       993\n",
            "           4       0.00      0.00      0.00        85\n",
            "\n",
            "    accuracy                           0.54      3240\n",
            "   macro avg       0.34      0.33      0.31      3240\n",
            "weighted avg       0.55      0.54      0.50      3240\n",
            "\n"
          ]
        }
      ]
    },
    {
      "cell_type": "markdown",
      "source": [
        "# Model Building  -- Decision Tree"
      ],
      "metadata": {
        "id": "HPKr5smJc06j"
      }
    },
    {
      "cell_type": "code",
      "source": [
        "from sklearn.tree import DecisionTreeClassifier\n",
        "dt = DecisionTreeClassifier()\n",
        "dt.fit(X_train,y_train)"
      ],
      "metadata": {
        "colab": {
          "base_uri": "https://localhost:8080/",
          "height": 75
        },
        "id": "FgzQHmyyc5PT",
        "outputId": "0d08d6be-6344-4247-caa4-79b7d43600d1"
      },
      "execution_count": 51,
      "outputs": [
        {
          "output_type": "execute_result",
          "data": {
            "text/plain": [
              "DecisionTreeClassifier()"
            ],
            "text/html": [
              "<style>#sk-container-id-2 {color: black;}#sk-container-id-2 pre{padding: 0;}#sk-container-id-2 div.sk-toggleable {background-color: white;}#sk-container-id-2 label.sk-toggleable__label {cursor: pointer;display: block;width: 100%;margin-bottom: 0;padding: 0.3em;box-sizing: border-box;text-align: center;}#sk-container-id-2 label.sk-toggleable__label-arrow:before {content: \"▸\";float: left;margin-right: 0.25em;color: #696969;}#sk-container-id-2 label.sk-toggleable__label-arrow:hover:before {color: black;}#sk-container-id-2 div.sk-estimator:hover label.sk-toggleable__label-arrow:before {color: black;}#sk-container-id-2 div.sk-toggleable__content {max-height: 0;max-width: 0;overflow: hidden;text-align: left;background-color: #f0f8ff;}#sk-container-id-2 div.sk-toggleable__content pre {margin: 0.2em;color: black;border-radius: 0.25em;background-color: #f0f8ff;}#sk-container-id-2 input.sk-toggleable__control:checked~div.sk-toggleable__content {max-height: 200px;max-width: 100%;overflow: auto;}#sk-container-id-2 input.sk-toggleable__control:checked~label.sk-toggleable__label-arrow:before {content: \"▾\";}#sk-container-id-2 div.sk-estimator input.sk-toggleable__control:checked~label.sk-toggleable__label {background-color: #d4ebff;}#sk-container-id-2 div.sk-label input.sk-toggleable__control:checked~label.sk-toggleable__label {background-color: #d4ebff;}#sk-container-id-2 input.sk-hidden--visually {border: 0;clip: rect(1px 1px 1px 1px);clip: rect(1px, 1px, 1px, 1px);height: 1px;margin: -1px;overflow: hidden;padding: 0;position: absolute;width: 1px;}#sk-container-id-2 div.sk-estimator {font-family: monospace;background-color: #f0f8ff;border: 1px dotted black;border-radius: 0.25em;box-sizing: border-box;margin-bottom: 0.5em;}#sk-container-id-2 div.sk-estimator:hover {background-color: #d4ebff;}#sk-container-id-2 div.sk-parallel-item::after {content: \"\";width: 100%;border-bottom: 1px solid gray;flex-grow: 1;}#sk-container-id-2 div.sk-label:hover label.sk-toggleable__label {background-color: #d4ebff;}#sk-container-id-2 div.sk-serial::before {content: \"\";position: absolute;border-left: 1px solid gray;box-sizing: border-box;top: 0;bottom: 0;left: 50%;z-index: 0;}#sk-container-id-2 div.sk-serial {display: flex;flex-direction: column;align-items: center;background-color: white;padding-right: 0.2em;padding-left: 0.2em;position: relative;}#sk-container-id-2 div.sk-item {position: relative;z-index: 1;}#sk-container-id-2 div.sk-parallel {display: flex;align-items: stretch;justify-content: center;background-color: white;position: relative;}#sk-container-id-2 div.sk-item::before, #sk-container-id-2 div.sk-parallel-item::before {content: \"\";position: absolute;border-left: 1px solid gray;box-sizing: border-box;top: 0;bottom: 0;left: 50%;z-index: -1;}#sk-container-id-2 div.sk-parallel-item {display: flex;flex-direction: column;z-index: 1;position: relative;background-color: white;}#sk-container-id-2 div.sk-parallel-item:first-child::after {align-self: flex-end;width: 50%;}#sk-container-id-2 div.sk-parallel-item:last-child::after {align-self: flex-start;width: 50%;}#sk-container-id-2 div.sk-parallel-item:only-child::after {width: 0;}#sk-container-id-2 div.sk-dashed-wrapped {border: 1px dashed gray;margin: 0 0.4em 0.5em 0.4em;box-sizing: border-box;padding-bottom: 0.4em;background-color: white;}#sk-container-id-2 div.sk-label label {font-family: monospace;font-weight: bold;display: inline-block;line-height: 1.2em;}#sk-container-id-2 div.sk-label-container {text-align: center;}#sk-container-id-2 div.sk-container {/* jupyter's `normalize.less` sets `[hidden] { display: none; }` but bootstrap.min.css set `[hidden] { display: none !important; }` so we also need the `!important` here to be able to override the default hidden behavior on the sphinx rendered scikit-learn.org. See: https://github.com/scikit-learn/scikit-learn/issues/21755 */display: inline-block !important;position: relative;}#sk-container-id-2 div.sk-text-repr-fallback {display: none;}</style><div id=\"sk-container-id-2\" class=\"sk-top-container\"><div class=\"sk-text-repr-fallback\"><pre>DecisionTreeClassifier()</pre><b>In a Jupyter environment, please rerun this cell to show the HTML representation or trust the notebook. <br />On GitHub, the HTML representation is unable to render, please try loading this page with nbviewer.org.</b></div><div class=\"sk-container\" hidden><div class=\"sk-item\"><div class=\"sk-estimator sk-toggleable\"><input class=\"sk-toggleable__control sk-hidden--visually\" id=\"sk-estimator-id-2\" type=\"checkbox\" checked><label for=\"sk-estimator-id-2\" class=\"sk-toggleable__label sk-toggleable__label-arrow\">DecisionTreeClassifier</label><div class=\"sk-toggleable__content\"><pre>DecisionTreeClassifier()</pre></div></div></div></div></div>"
            ]
          },
          "metadata": {},
          "execution_count": 51
        }
      ]
    },
    {
      "cell_type": "code",
      "source": [
        "y_pred = dt.predict(X_test)"
      ],
      "metadata": {
        "id": "3LgHTYUMc_0t"
      },
      "execution_count": 52,
      "outputs": []
    },
    {
      "cell_type": "code",
      "source": [
        "print(accuracy_score(y_test,y_pred))\n",
        "print(confusion_matrix(y_test,y_pred))\n",
        "print(classification_report(y_test,y_pred))"
      ],
      "metadata": {
        "colab": {
          "base_uri": "https://localhost:8080/"
        },
        "id": "Vd4-e4t0dCZ1",
        "outputId": "94bb5c68-d23d-406a-e5f9-27365b2c9c05"
      },
      "execution_count": 53,
      "outputs": [
        {
          "output_type": "stream",
          "name": "stdout",
          "text": [
            "0.9972222222222222\n",
            "[[1092    0    0    0    0]\n",
            " [   0 1064    0    1    3]\n",
            " [   0    0    0    0    2]\n",
            " [   0    2    0  991    0]\n",
            " [   0    1    0    0   84]]\n",
            "              precision    recall  f1-score   support\n",
            "\n",
            "           0       1.00      1.00      1.00      1092\n",
            "           1       1.00      1.00      1.00      1068\n",
            "           2       0.00      0.00      0.00         2\n",
            "           3       1.00      1.00      1.00       993\n",
            "           4       0.94      0.99      0.97        85\n",
            "\n",
            "    accuracy                           1.00      3240\n",
            "   macro avg       0.79      0.80      0.79      3240\n",
            "weighted avg       1.00      1.00      1.00      3240\n",
            "\n"
          ]
        }
      ]
    },
    {
      "cell_type": "markdown",
      "source": [
        "#All ML Models"
      ],
      "metadata": {
        "id": "Eo3R-qPIadI7"
      }
    },
    {
      "cell_type": "code",
      "source": [
        "pip install lazypredict"
      ],
      "metadata": {
        "colab": {
          "base_uri": "https://localhost:8080/"
        },
        "id": "KoUBfiFmZcVS",
        "outputId": "ceee9b65-77ee-440f-e1a8-96112dcb16e3"
      },
      "execution_count": 38,
      "outputs": [
        {
          "output_type": "stream",
          "name": "stdout",
          "text": [
            "Collecting lazypredict\n",
            "  Downloading lazypredict-0.2.12-py2.py3-none-any.whl.metadata (12 kB)\n",
            "Requirement already satisfied: click in /usr/local/lib/python3.10/dist-packages (from lazypredict) (8.1.7)\n",
            "Requirement already satisfied: scikit-learn in /usr/local/lib/python3.10/dist-packages (from lazypredict) (1.3.2)\n",
            "Requirement already satisfied: pandas in /usr/local/lib/python3.10/dist-packages (from lazypredict) (2.1.4)\n",
            "Requirement already satisfied: tqdm in /usr/local/lib/python3.10/dist-packages (from lazypredict) (4.66.4)\n",
            "Requirement already satisfied: joblib in /usr/local/lib/python3.10/dist-packages (from lazypredict) (1.4.2)\n",
            "Requirement already satisfied: lightgbm in /usr/local/lib/python3.10/dist-packages (from lazypredict) (4.4.0)\n",
            "Requirement already satisfied: xgboost in /usr/local/lib/python3.10/dist-packages (from lazypredict) (2.1.0)\n",
            "Requirement already satisfied: numpy>=1.17.0 in /usr/local/lib/python3.10/dist-packages (from lightgbm->lazypredict) (1.26.4)\n",
            "Requirement already satisfied: scipy in /usr/local/lib/python3.10/dist-packages (from lightgbm->lazypredict) (1.13.1)\n",
            "Requirement already satisfied: python-dateutil>=2.8.2 in /usr/local/lib/python3.10/dist-packages (from pandas->lazypredict) (2.8.2)\n",
            "Requirement already satisfied: pytz>=2020.1 in /usr/local/lib/python3.10/dist-packages (from pandas->lazypredict) (2024.1)\n",
            "Requirement already satisfied: tzdata>=2022.1 in /usr/local/lib/python3.10/dist-packages (from pandas->lazypredict) (2024.1)\n",
            "Requirement already satisfied: threadpoolctl>=2.0.0 in /usr/local/lib/python3.10/dist-packages (from scikit-learn->lazypredict) (3.5.0)\n",
            "Collecting nvidia-nccl-cu12 (from xgboost->lazypredict)\n",
            "  Downloading nvidia_nccl_cu12-2.22.3-py3-none-manylinux2014_x86_64.whl.metadata (1.8 kB)\n",
            "Requirement already satisfied: six>=1.5 in /usr/local/lib/python3.10/dist-packages (from python-dateutil>=2.8.2->pandas->lazypredict) (1.16.0)\n",
            "Downloading lazypredict-0.2.12-py2.py3-none-any.whl (12 kB)\n",
            "Downloading nvidia_nccl_cu12-2.22.3-py3-none-manylinux2014_x86_64.whl (190.9 MB)\n",
            "\u001b[2K   \u001b[90m━━━━━━━━━━━━━━━━━━━━━━━━━━━━━━━━━━━━━━━━\u001b[0m \u001b[32m190.9/190.9 MB\u001b[0m \u001b[31m5.3 MB/s\u001b[0m eta \u001b[36m0:00:00\u001b[0m\n",
            "\u001b[?25hInstalling collected packages: nvidia-nccl-cu12, lazypredict\n",
            "\u001b[31mERROR: pip's dependency resolver does not currently take into account all the packages that are installed. This behaviour is the source of the following dependency conflicts.\n",
            "torch 2.3.1+cu121 requires nvidia-cublas-cu12==12.1.3.1; platform_system == \"Linux\" and platform_machine == \"x86_64\", which is not installed.\n",
            "torch 2.3.1+cu121 requires nvidia-cuda-cupti-cu12==12.1.105; platform_system == \"Linux\" and platform_machine == \"x86_64\", which is not installed.\n",
            "torch 2.3.1+cu121 requires nvidia-cuda-nvrtc-cu12==12.1.105; platform_system == \"Linux\" and platform_machine == \"x86_64\", which is not installed.\n",
            "torch 2.3.1+cu121 requires nvidia-cuda-runtime-cu12==12.1.105; platform_system == \"Linux\" and platform_machine == \"x86_64\", which is not installed.\n",
            "torch 2.3.1+cu121 requires nvidia-cudnn-cu12==8.9.2.26; platform_system == \"Linux\" and platform_machine == \"x86_64\", which is not installed.\n",
            "torch 2.3.1+cu121 requires nvidia-cufft-cu12==11.0.2.54; platform_system == \"Linux\" and platform_machine == \"x86_64\", which is not installed.\n",
            "torch 2.3.1+cu121 requires nvidia-curand-cu12==10.3.2.106; platform_system == \"Linux\" and platform_machine == \"x86_64\", which is not installed.\n",
            "torch 2.3.1+cu121 requires nvidia-cusolver-cu12==11.4.5.107; platform_system == \"Linux\" and platform_machine == \"x86_64\", which is not installed.\n",
            "torch 2.3.1+cu121 requires nvidia-cusparse-cu12==12.1.0.106; platform_system == \"Linux\" and platform_machine == \"x86_64\", which is not installed.\n",
            "torch 2.3.1+cu121 requires nvidia-nvtx-cu12==12.1.105; platform_system == \"Linux\" and platform_machine == \"x86_64\", which is not installed.\n",
            "torch 2.3.1+cu121 requires nvidia-nccl-cu12==2.20.5; platform_system == \"Linux\" and platform_machine == \"x86_64\", but you have nvidia-nccl-cu12 2.22.3 which is incompatible.\u001b[0m\u001b[31m\n",
            "\u001b[0mSuccessfully installed lazypredict-0.2.12 nvidia-nccl-cu12-2.22.3\n"
          ]
        }
      ]
    },
    {
      "cell_type": "code",
      "source": [
        "import lazypredict"
      ],
      "metadata": {
        "id": "vv7UuStFZfjD"
      },
      "execution_count": 39,
      "outputs": []
    },
    {
      "cell_type": "code",
      "source": [
        "from lazypredict.Supervised import LazyClassifier"
      ],
      "metadata": {
        "id": "FwT2FbaPZiwr"
      },
      "execution_count": 40,
      "outputs": []
    },
    {
      "cell_type": "code",
      "source": [
        "clf = LazyClassifier(verbose=0, ignore_warnings=True, custom_metric = None)"
      ],
      "metadata": {
        "id": "W5KXXVL5ZmUL"
      },
      "execution_count": 41,
      "outputs": []
    },
    {
      "cell_type": "code",
      "source": [
        "models,predictions = clf.fit(X_train, X_test, y_train, y_test)"
      ],
      "metadata": {
        "colab": {
          "base_uri": "https://localhost:8080/"
        },
        "id": "ajS1OFGsZrQb",
        "outputId": "e38a2f41-54c6-4819-eb52-f19a84eaae7b"
      },
      "execution_count": 42,
      "outputs": [
        {
          "output_type": "stream",
          "name": "stderr",
          "text": [
            " 90%|████████▉ | 26/29 [00:17<00:02,  1.24it/s]"
          ]
        },
        {
          "output_type": "stream",
          "name": "stdout",
          "text": [
            "[LightGBM] [Info] Auto-choosing col-wise multi-threading, the overhead of testing was 0.001084 seconds.\n",
            "You can set `force_col_wise=true` to remove the overhead.\n",
            "[LightGBM] [Info] Total Bins 35\n",
            "[LightGBM] [Info] Number of data points in the train set: 9720, number of used features: 8\n",
            "[LightGBM] [Info] Start training from score -1.102323\n",
            "[LightGBM] [Info] Start training from score -1.111660\n",
            "[LightGBM] [Info] Start training from score -1.158716\n",
            "[LightGBM] [Info] Start training from score -3.688879\n",
            "[LightGBM] [Warning] No further splits with positive gain, best gain: -inf\n"
          ]
        },
        {
          "output_type": "stream",
          "name": "stderr",
          "text": [
            "100%|██████████| 29/29 [00:17<00:00,  1.62it/s]\n"
          ]
        }
      ]
    },
    {
      "cell_type": "code",
      "source": [
        "print(models)"
      ],
      "metadata": {
        "colab": {
          "base_uri": "https://localhost:8080/"
        },
        "id": "HDgWQRXpaE-v",
        "outputId": "84511e08-61fb-48b0-c05d-008156225baf"
      },
      "execution_count": 43,
      "outputs": [
        {
          "output_type": "stream",
          "name": "stdout",
          "text": [
            "                               Accuracy  Balanced Accuracy ROC AUC  F1 Score  \\\n",
            "Model                                                                          \n",
            "LGBMClassifier                     1.00               0.80    None      1.00   \n",
            "DecisionTreeClassifier             1.00               0.80    None      1.00   \n",
            "BaggingClassifier                  1.00               0.79    None      0.99   \n",
            "RandomForestClassifier             0.98               0.75    None      0.98   \n",
            "ExtraTreesClassifier               0.97               0.73    None      0.97   \n",
            "KNeighborsClassifier               0.91               0.69    None      0.90   \n",
            "SVC                                0.96               0.66    None      0.95   \n",
            "LabelPropagation                   0.83               0.63    None      0.83   \n",
            "ExtraTreeClassifier                0.85               0.60    None      0.85   \n",
            "GaussianNB                         0.65               0.58    None      0.70   \n",
            "QuadraticDiscriminantAnalysis      0.64               0.58    None      0.70   \n",
            "NearestCentroid                    0.70               0.57    None      0.71   \n",
            "AdaBoostClassifier                 0.81               0.56    None      0.82   \n",
            "LabelSpreading                     0.76               0.55    None      0.76   \n",
            "LinearDiscriminantAnalysis         0.78               0.48    None      0.77   \n",
            "LogisticRegression                 0.77               0.48    None      0.76   \n",
            "PassiveAggressiveClassifier        0.73               0.47    None      0.73   \n",
            "Perceptron                         0.76               0.47    None      0.75   \n",
            "LinearSVC                          0.76               0.47    None      0.75   \n",
            "CalibratedClassifierCV             0.76               0.47    None      0.75   \n",
            "SGDClassifier                      0.76               0.46    None      0.75   \n",
            "RidgeClassifier                    0.75               0.46    None      0.74   \n",
            "RidgeClassifierCV                  0.75               0.46    None      0.74   \n",
            "BernoulliNB                        0.54               0.33    None      0.50   \n",
            "DummyClassifier                    0.34               0.20    None      0.17   \n",
            "\n",
            "                               Time Taken  \n",
            "Model                                      \n",
            "LGBMClassifier                       0.67  \n",
            "DecisionTreeClassifier               0.09  \n",
            "BaggingClassifier                    0.19  \n",
            "RandomForestClassifier               0.96  \n",
            "ExtraTreesClassifier                 1.79  \n",
            "KNeighborsClassifier                 0.46  \n",
            "SVC                                  2.40  \n",
            "LabelPropagation                     3.22  \n",
            "ExtraTreeClassifier                  0.07  \n",
            "GaussianNB                           0.03  \n",
            "QuadraticDiscriminantAnalysis        0.05  \n",
            "NearestCentroid                      0.04  \n",
            "AdaBoostClassifier                   0.82  \n",
            "LabelSpreading                       4.87  \n",
            "LinearDiscriminantAnalysis           0.11  \n",
            "LogisticRegression                   0.25  \n",
            "PassiveAggressiveClassifier          0.09  \n",
            "Perceptron                           0.06  \n",
            "LinearSVC                            0.49  \n",
            "CalibratedClassifierCV               0.59  \n",
            "SGDClassifier                        0.21  \n",
            "RidgeClassifier                      0.03  \n",
            "RidgeClassifierCV                    0.18  \n",
            "BernoulliNB                          0.05  \n",
            "DummyClassifier                      0.04  \n"
          ]
        }
      ]
    },
    {
      "cell_type": "code",
      "source": [
        "df['Target'].value_counts()"
      ],
      "metadata": {
        "colab": {
          "base_uri": "https://localhost:8080/",
          "height": 272
        },
        "id": "VOU0FX9Wb27r",
        "outputId": "40a85a91-cee8-475c-fc23-8087f46f4513"
      },
      "execution_count": 50,
      "outputs": [
        {
          "output_type": "execute_result",
          "data": {
            "text/plain": [
              "Target\n",
              "0    4320\n",
              "1    4266\n",
              "3    4044\n",
              "4     328\n",
              "2       2\n",
              "Name: count, dtype: int64"
            ],
            "text/html": [
              "<table border=\"1\" class=\"dataframe\">\n",
              "  <thead>\n",
              "    <tr style=\"text-align: right;\">\n",
              "      <th></th>\n",
              "      <th>count</th>\n",
              "    </tr>\n",
              "    <tr>\n",
              "      <th>Target</th>\n",
              "      <th></th>\n",
              "    </tr>\n",
              "  </thead>\n",
              "  <tbody>\n",
              "    <tr>\n",
              "      <th>0</th>\n",
              "      <td>4320</td>\n",
              "    </tr>\n",
              "    <tr>\n",
              "      <th>1</th>\n",
              "      <td>4266</td>\n",
              "    </tr>\n",
              "    <tr>\n",
              "      <th>3</th>\n",
              "      <td>4044</td>\n",
              "    </tr>\n",
              "    <tr>\n",
              "      <th>4</th>\n",
              "      <td>328</td>\n",
              "    </tr>\n",
              "    <tr>\n",
              "      <th>2</th>\n",
              "      <td>2</td>\n",
              "    </tr>\n",
              "  </tbody>\n",
              "</table><br><label><b>dtype:</b> int64</label>"
            ]
          },
          "metadata": {},
          "execution_count": 50
        }
      ]
    }
  ]
}